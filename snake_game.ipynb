{
 "cells": [
  {
   "cell_type": "code",
   "execution_count": null,
   "id": "e93b5767-7a08-4987-8000-c3b546169095",
   "metadata": {},
   "outputs": [
    {
     "name": "stdout",
     "output_type": "stream",
     "text": [
      ". . . . . . . . . . \n",
      ". . . . . . . . . . \n",
      ". . . . . . . . . . \n",
      ". . . . . . . . . . \n",
      ". . . . . . . . . . \n",
      ". . . . . s . . . . \n",
      ". . . . . . . . . . \n",
      ". . . . . . . . . f \n",
      ". . . . . . . . . . \n",
      ". . . . . . . . . . \n",
      "\n",
      "score: 0\n"
     ]
    },
    {
     "name": "stdin",
     "output_type": "stream",
     "text": [
      "enter direction(up/down/left/right): right\n"
     ]
    },
    {
     "name": "stdout",
     "output_type": "stream",
     "text": [
      ". . . . . . . . . . \n",
      ". . . . . . . . . . \n",
      ". . . . . . . . . . \n",
      ". . . . . . . . . . \n",
      ". . . . . . . . . . \n",
      ". . . . . . s . . . \n",
      ". . . . . . . . . . \n",
      ". . . . . . . . . f \n",
      ". . . . . . . . . . \n",
      ". . . . . . . . . . \n",
      "\n",
      "score: 0\n"
     ]
    },
    {
     "name": "stdin",
     "output_type": "stream",
     "text": [
      "enter direction(up/down/left/right): right\n"
     ]
    },
    {
     "name": "stdout",
     "output_type": "stream",
     "text": [
      ". . . . . . . . . . \n",
      ". . . . . . . . . . \n",
      ". . . . . . . . . . \n",
      ". . . . . . . . . . \n",
      ". . . . . . . . . . \n",
      ". . . . . . . s . . \n",
      ". . . . . . . . . . \n",
      ". . . . . . . . . f \n",
      ". . . . . . . . . . \n",
      ". . . . . . . . . . \n",
      "\n",
      "score: 0\n"
     ]
    },
    {
     "name": "stdin",
     "output_type": "stream",
     "text": [
      "enter direction(up/down/left/right): right\n"
     ]
    },
    {
     "name": "stdout",
     "output_type": "stream",
     "text": [
      ". . . . . . . . . . \n",
      ". . . . . . . . . . \n",
      ". . . . . . . . . . \n",
      ". . . . . . . . . . \n",
      ". . . . . . . . . . \n",
      ". . . . . . . . s . \n",
      ". . . . . . . . . . \n",
      ". . . . . . . . . f \n",
      ". . . . . . . . . . \n",
      ". . . . . . . . . . \n",
      "\n",
      "score: 0\n"
     ]
    },
    {
     "name": "stdin",
     "output_type": "stream",
     "text": [
      "enter direction(up/down/left/right): right\n"
     ]
    },
    {
     "name": "stdout",
     "output_type": "stream",
     "text": [
      ". . . . . . . . . . \n",
      ". . . . . . . . . . \n",
      ". . . . . . . . . . \n",
      ". . . . . . . . . . \n",
      ". . . . . . . . . . \n",
      ". . . . . . . . . s \n",
      ". . . . . . . . . . \n",
      ". . . . . . . . . f \n",
      ". . . . . . . . . . \n",
      ". . . . . . . . . . \n",
      "\n",
      "score: 0\n"
     ]
    },
    {
     "name": "stdin",
     "output_type": "stream",
     "text": [
      "enter direction(up/down/left/right): down\n"
     ]
    },
    {
     "name": "stdout",
     "output_type": "stream",
     "text": [
      ". . . . . . . . . . \n",
      ". . . . . . . . . . \n",
      ". . . . . . . . . . \n",
      ". . . . . . . . . . \n",
      ". . . . . . . . . . \n",
      ". . . . . . . . . . \n",
      ". . . . . . . . . s \n",
      ". . . . . . . . . f \n",
      ". . . . . . . . . . \n",
      ". . . . . . . . . . \n",
      "\n",
      "score: 0\n"
     ]
    },
    {
     "name": "stdin",
     "output_type": "stream",
     "text": [
      "enter direction(up/down/left/right): down\n"
     ]
    },
    {
     "name": "stdout",
     "output_type": "stream",
     "text": [
      ". . . . . . . . . . \n",
      ". . . . . . . . . . \n",
      ". . . . . . . . . . \n",
      ". . . . . . . . . . \n",
      ". . . . . . . . . . \n",
      ". . . . . . . . . . \n",
      ". . . . . . . . . s \n",
      ". . . . . . . . . s \n",
      ". . . . f . . . . . \n",
      ". . . . . . . . . . \n",
      "\n",
      "score: 1\n"
     ]
    },
    {
     "name": "stdin",
     "output_type": "stream",
     "text": [
      "enter direction(up/down/left/right): down\n"
     ]
    },
    {
     "name": "stdout",
     "output_type": "stream",
     "text": [
      ". . . . . . . . . . \n",
      ". . . . . . . . . . \n",
      ". . . . . . . . . . \n",
      ". . . . . . . . . . \n",
      ". . . . . . . . . . \n",
      ". . . . . . . . . . \n",
      ". . . . . . . . . . \n",
      ". . . . . . . . . s \n",
      ". . . . f . . . . s \n",
      ". . . . . . . . . . \n",
      "\n",
      "score: 1\n"
     ]
    },
    {
     "name": "stdin",
     "output_type": "stream",
     "text": [
      "enter direction(up/down/left/right): left\n"
     ]
    },
    {
     "name": "stdout",
     "output_type": "stream",
     "text": [
      ". . . . . . . . . . \n",
      ". . . . . . . . . . \n",
      ". . . . . . . . . . \n",
      ". . . . . . . . . . \n",
      ". . . . . . . . . . \n",
      ". . . . . . . . . . \n",
      ". . . . . . . . . . \n",
      ". . . . . . . . . . \n",
      ". . . . f . . . s s \n",
      ". . . . . . . . . . \n",
      "\n",
      "score: 1\n"
     ]
    },
    {
     "name": "stdin",
     "output_type": "stream",
     "text": [
      "enter direction(up/down/left/right): left\n"
     ]
    },
    {
     "name": "stdout",
     "output_type": "stream",
     "text": [
      ". . . . . . . . . . \n",
      ". . . . . . . . . . \n",
      ". . . . . . . . . . \n",
      ". . . . . . . . . . \n",
      ". . . . . . . . . . \n",
      ". . . . . . . . . . \n",
      ". . . . . . . . . . \n",
      ". . . . . . . . . . \n",
      ". . . . f . . s s . \n",
      ". . . . . . . . . . \n",
      "\n",
      "score: 1\n"
     ]
    },
    {
     "name": "stdin",
     "output_type": "stream",
     "text": [
      "enter direction(up/down/left/right): left\n"
     ]
    },
    {
     "name": "stdout",
     "output_type": "stream",
     "text": [
      ". . . . . . . . . . \n",
      ". . . . . . . . . . \n",
      ". . . . . . . . . . \n",
      ". . . . . . . . . . \n",
      ". . . . . . . . . . \n",
      ". . . . . . . . . . \n",
      ". . . . . . . . . . \n",
      ". . . . . . . . . . \n",
      ". . . . f . s s . . \n",
      ". . . . . . . . . . \n",
      "\n",
      "score: 1\n"
     ]
    },
    {
     "name": "stdin",
     "output_type": "stream",
     "text": [
      "enter direction(up/down/left/right): left\n"
     ]
    },
    {
     "name": "stdout",
     "output_type": "stream",
     "text": [
      ". . . . . . . . . . \n",
      ". . . . . . . . . . \n",
      ". . . . . . . . . . \n",
      ". . . . . . . . . . \n",
      ". . . . . . . . . . \n",
      ". . . . . . . . . . \n",
      ". . . . . . . . . . \n",
      ". . . . . . . . . . \n",
      ". . . . f s s . . . \n",
      ". . . . . . . . . . \n",
      "\n",
      "score: 1\n"
     ]
    },
    {
     "name": "stdin",
     "output_type": "stream",
     "text": [
      "enter direction(up/down/left/right): left\n"
     ]
    },
    {
     "name": "stdout",
     "output_type": "stream",
     "text": [
      ". . . . . . . . f . \n",
      ". . . . . . . . . . \n",
      ". . . . . . . . . . \n",
      ". . . . . . . . . . \n",
      ". . . . . . . . . . \n",
      ". . . . . . . . . . \n",
      ". . . . . . . . . . \n",
      ". . . . . . . . . . \n",
      ". . . . s s s . . . \n",
      ". . . . . . . . . . \n",
      "\n",
      "score: 2\n"
     ]
    },
    {
     "name": "stdin",
     "output_type": "stream",
     "text": [
      "enter direction(up/down/left/right): up\n"
     ]
    },
    {
     "name": "stdout",
     "output_type": "stream",
     "text": [
      ". . . . . . . . f . \n",
      ". . . . . . . . . . \n",
      ". . . . . . . . . . \n",
      ". . . . . . . . . . \n",
      ". . . . . . . . . . \n",
      ". . . . . . . . . . \n",
      ". . . . . . . . . . \n",
      ". . . . s . . . . . \n",
      ". . . . s s . . . . \n",
      ". . . . . . . . . . \n",
      "\n",
      "score: 2\n"
     ]
    },
    {
     "name": "stdin",
     "output_type": "stream",
     "text": [
      "enter direction(up/down/left/right): up\n"
     ]
    },
    {
     "name": "stdout",
     "output_type": "stream",
     "text": [
      ". . . . . . . . f . \n",
      ". . . . . . . . . . \n",
      ". . . . . . . . . . \n",
      ". . . . . . . . . . \n",
      ". . . . . . . . . . \n",
      ". . . . . . . . . . \n",
      ". . . . s . . . . . \n",
      ". . . . s . . . . . \n",
      ". . . . s . . . . . \n",
      ". . . . . . . . . . \n",
      "\n",
      "score: 2\n"
     ]
    },
    {
     "name": "stdin",
     "output_type": "stream",
     "text": [
      "enter direction(up/down/left/right): up\n"
     ]
    },
    {
     "name": "stdout",
     "output_type": "stream",
     "text": [
      ". . . . . . . . f . \n",
      ". . . . . . . . . . \n",
      ". . . . . . . . . . \n",
      ". . . . . . . . . . \n",
      ". . . . . . . . . . \n",
      ". . . . s . . . . . \n",
      ". . . . s . . . . . \n",
      ". . . . s . . . . . \n",
      ". . . . . . . . . . \n",
      ". . . . . . . . . . \n",
      "\n",
      "score: 2\n"
     ]
    },
    {
     "name": "stdin",
     "output_type": "stream",
     "text": [
      "enter direction(up/down/left/right): up\n"
     ]
    },
    {
     "name": "stdout",
     "output_type": "stream",
     "text": [
      ". . . . . . . . f . \n",
      ". . . . . . . . . . \n",
      ". . . . . . . . . . \n",
      ". . . . . . . . . . \n",
      ". . . . s . . . . . \n",
      ". . . . s . . . . . \n",
      ". . . . s . . . . . \n",
      ". . . . . . . . . . \n",
      ". . . . . . . . . . \n",
      ". . . . . . . . . . \n",
      "\n",
      "score: 2\n"
     ]
    },
    {
     "name": "stdin",
     "output_type": "stream",
     "text": [
      "enter direction(up/down/left/right): up\n"
     ]
    },
    {
     "name": "stdout",
     "output_type": "stream",
     "text": [
      ". . . . . . . . f . \n",
      ". . . . . . . . . . \n",
      ". . . . . . . . . . \n",
      ". . . . s . . . . . \n",
      ". . . . s . . . . . \n",
      ". . . . s . . . . . \n",
      ". . . . . . . . . . \n",
      ". . . . . . . . . . \n",
      ". . . . . . . . . . \n",
      ". . . . . . . . . . \n",
      "\n",
      "score: 2\n"
     ]
    },
    {
     "name": "stdin",
     "output_type": "stream",
     "text": [
      "enter direction(up/down/left/right): up\n"
     ]
    },
    {
     "name": "stdout",
     "output_type": "stream",
     "text": [
      ". . . . . . . . f . \n",
      ". . . . . . . . . . \n",
      ". . . . s . . . . . \n",
      ". . . . s . . . . . \n",
      ". . . . s . . . . . \n",
      ". . . . . . . . . . \n",
      ". . . . . . . . . . \n",
      ". . . . . . . . . . \n",
      ". . . . . . . . . . \n",
      ". . . . . . . . . . \n",
      "\n",
      "score: 2\n"
     ]
    },
    {
     "name": "stdin",
     "output_type": "stream",
     "text": [
      "enter direction(up/down/left/right): up\n"
     ]
    },
    {
     "name": "stdout",
     "output_type": "stream",
     "text": [
      ". . . . . . . . f . \n",
      ". . . . s . . . . . \n",
      ". . . . s . . . . . \n",
      ". . . . s . . . . . \n",
      ". . . . . . . . . . \n",
      ". . . . . . . . . . \n",
      ". . . . . . . . . . \n",
      ". . . . . . . . . . \n",
      ". . . . . . . . . . \n",
      ". . . . . . . . . . \n",
      "\n",
      "score: 2\n"
     ]
    },
    {
     "name": "stdin",
     "output_type": "stream",
     "text": [
      "enter direction(up/down/left/right): up\n"
     ]
    },
    {
     "name": "stdout",
     "output_type": "stream",
     "text": [
      ". . . . s . . . f . \n",
      ". . . . s . . . . . \n",
      ". . . . s . . . . . \n",
      ". . . . . . . . . . \n",
      ". . . . . . . . . . \n",
      ". . . . . . . . . . \n",
      ". . . . . . . . . . \n",
      ". . . . . . . . . . \n",
      ". . . . . . . . . . \n",
      ". . . . . . . . . . \n",
      "\n",
      "score: 2\n"
     ]
    },
    {
     "name": "stdin",
     "output_type": "stream",
     "text": [
      "enter direction(up/down/left/right): right\n"
     ]
    },
    {
     "name": "stdout",
     "output_type": "stream",
     "text": [
      ". . . . s s . . f . \n",
      ". . . . s . . . . . \n",
      ". . . . . . . . . . \n",
      ". . . . . . . . . . \n",
      ". . . . . . . . . . \n",
      ". . . . . . . . . . \n",
      ". . . . . . . . . . \n",
      ". . . . . . . . . . \n",
      ". . . . . . . . . . \n",
      ". . . . . . . . . . \n",
      "\n",
      "score: 2\n"
     ]
    },
    {
     "name": "stdin",
     "output_type": "stream",
     "text": [
      "enter direction(up/down/left/right): right\n"
     ]
    },
    {
     "name": "stdout",
     "output_type": "stream",
     "text": [
      ". . . . s s s . f . \n",
      ". . . . . . . . . . \n",
      ". . . . . . . . . . \n",
      ". . . . . . . . . . \n",
      ". . . . . . . . . . \n",
      ". . . . . . . . . . \n",
      ". . . . . . . . . . \n",
      ". . . . . . . . . . \n",
      ". . . . . . . . . . \n",
      ". . . . . . . . . . \n",
      "\n",
      "score: 2\n"
     ]
    },
    {
     "name": "stdin",
     "output_type": "stream",
     "text": [
      "enter direction(up/down/left/right): right\n"
     ]
    },
    {
     "name": "stdout",
     "output_type": "stream",
     "text": [
      ". . . . . s s s f . \n",
      ". . . . . . . . . . \n",
      ". . . . . . . . . . \n",
      ". . . . . . . . . . \n",
      ". . . . . . . . . . \n",
      ". . . . . . . . . . \n",
      ". . . . . . . . . . \n",
      ". . . . . . . . . . \n",
      ". . . . . . . . . . \n",
      ". . . . . . . . . . \n",
      "\n",
      "score: 2\n"
     ]
    },
    {
     "name": "stdin",
     "output_type": "stream",
     "text": [
      "enter direction(up/down/left/right): right\n"
     ]
    },
    {
     "name": "stdout",
     "output_type": "stream",
     "text": [
      ". . . . . s s s s . \n",
      ". . . . . . . . . . \n",
      ". . . . . . . . . . \n",
      ". . . . . . . . . . \n",
      ". . . . . . . . . . \n",
      ". . . . . . f . . . \n",
      ". . . . . . . . . . \n",
      ". . . . . . . . . . \n",
      ". . . . . . . . . . \n",
      ". . . . . . . . . . \n",
      "\n",
      "score: 3\n"
     ]
    },
    {
     "name": "stdin",
     "output_type": "stream",
     "text": [
      "enter direction(up/down/left/right): down\n"
     ]
    },
    {
     "name": "stdout",
     "output_type": "stream",
     "text": [
      ". . . . . . s s s . \n",
      ". . . . . . . . s . \n",
      ". . . . . . . . . . \n",
      ". . . . . . . . . . \n",
      ". . . . . . . . . . \n",
      ". . . . . . f . . . \n",
      ". . . . . . . . . . \n",
      ". . . . . . . . . . \n",
      ". . . . . . . . . . \n",
      ". . . . . . . . . . \n",
      "\n",
      "score: 3\n"
     ]
    },
    {
     "name": "stdin",
     "output_type": "stream",
     "text": [
      "enter direction(up/down/left/right): down\n"
     ]
    },
    {
     "name": "stdout",
     "output_type": "stream",
     "text": [
      ". . . . . . . s s . \n",
      ". . . . . . . . s . \n",
      ". . . . . . . . s . \n",
      ". . . . . . . . . . \n",
      ". . . . . . . . . . \n",
      ". . . . . . f . . . \n",
      ". . . . . . . . . . \n",
      ". . . . . . . . . . \n",
      ". . . . . . . . . . \n",
      ". . . . . . . . . . \n",
      "\n",
      "score: 3\n"
     ]
    },
    {
     "name": "stdin",
     "output_type": "stream",
     "text": [
      "enter direction(up/down/left/right): down\n"
     ]
    },
    {
     "name": "stdout",
     "output_type": "stream",
     "text": [
      ". . . . . . . . s . \n",
      ". . . . . . . . s . \n",
      ". . . . . . . . s . \n",
      ". . . . . . . . s . \n",
      ". . . . . . . . . . \n",
      ". . . . . . f . . . \n",
      ". . . . . . . . . . \n",
      ". . . . . . . . . . \n",
      ". . . . . . . . . . \n",
      ". . . . . . . . . . \n",
      "\n",
      "score: 3\n"
     ]
    },
    {
     "name": "stdin",
     "output_type": "stream",
     "text": [
      "enter direction(up/down/left/right): down\n"
     ]
    },
    {
     "name": "stdout",
     "output_type": "stream",
     "text": [
      ". . . . . . . . . . \n",
      ". . . . . . . . s . \n",
      ". . . . . . . . s . \n",
      ". . . . . . . . s . \n",
      ". . . . . . . . s . \n",
      ". . . . . . f . . . \n",
      ". . . . . . . . . . \n",
      ". . . . . . . . . . \n",
      ". . . . . . . . . . \n",
      ". . . . . . . . . . \n",
      "\n",
      "score: 3\n"
     ]
    },
    {
     "name": "stdin",
     "output_type": "stream",
     "text": [
      "enter direction(up/down/left/right): down\n"
     ]
    },
    {
     "name": "stdout",
     "output_type": "stream",
     "text": [
      ". . . . . . . . . . \n",
      ". . . . . . . . . . \n",
      ". . . . . . . . s . \n",
      ". . . . . . . . s . \n",
      ". . . . . . . . s . \n",
      ". . . . . . f . s . \n",
      ". . . . . . . . . . \n",
      ". . . . . . . . . . \n",
      ". . . . . . . . . . \n",
      ". . . . . . . . . . \n",
      "\n",
      "score: 3\n"
     ]
    },
    {
     "name": "stdin",
     "output_type": "stream",
     "text": [
      "enter direction(up/down/left/right): left\n"
     ]
    },
    {
     "name": "stdout",
     "output_type": "stream",
     "text": [
      ". . . . . . . . . . \n",
      ". . . . . . . . . . \n",
      ". . . . . . . . . . \n",
      ". . . . . . . . s . \n",
      ". . . . . . . . s . \n",
      ". . . . . . f s s . \n",
      ". . . . . . . . . . \n",
      ". . . . . . . . . . \n",
      ". . . . . . . . . . \n",
      ". . . . . . . . . . \n",
      "\n",
      "score: 3\n"
     ]
    },
    {
     "name": "stdin",
     "output_type": "stream",
     "text": [
      "enter direction(up/down/left/right): left\n"
     ]
    },
    {
     "name": "stdout",
     "output_type": "stream",
     "text": [
      ". . . . . . . . . . \n",
      ". . . . . . . . . . \n",
      ". . . . . . . . . . \n",
      ". . . . . . . . s . \n",
      ". . . . . . . . s . \n",
      ". . . . . . s s s . \n",
      ". . . . . . . . . . \n",
      ". . . . . f . . . . \n",
      ". . . . . . . . . . \n",
      ". . . . . . . . . . \n",
      "\n",
      "score: 4\n"
     ]
    },
    {
     "name": "stdin",
     "output_type": "stream",
     "text": [
      "enter direction(up/down/left/right): down\n"
     ]
    },
    {
     "name": "stdout",
     "output_type": "stream",
     "text": [
      ". . . . . . . . . . \n",
      ". . . . . . . . . . \n",
      ". . . . . . . . . . \n",
      ". . . . . . . . . . \n",
      ". . . . . . . . s . \n",
      ". . . . . . s s s . \n",
      ". . . . . . s . . . \n",
      ". . . . . f . . . . \n",
      ". . . . . . . . . . \n",
      ". . . . . . . . . . \n",
      "\n",
      "score: 4\n"
     ]
    },
    {
     "name": "stdin",
     "output_type": "stream",
     "text": [
      "enter direction(up/down/left/right): down\n"
     ]
    },
    {
     "name": "stdout",
     "output_type": "stream",
     "text": [
      ". . . . . . . . . . \n",
      ". . . . . . . . . . \n",
      ". . . . . . . . . . \n",
      ". . . . . . . . . . \n",
      ". . . . . . . . . . \n",
      ". . . . . . s s s . \n",
      ". . . . . . s . . . \n",
      ". . . . . f s . . . \n",
      ". . . . . . . . . . \n",
      ". . . . . . . . . . \n",
      "\n",
      "score: 4\n"
     ]
    },
    {
     "name": "stdin",
     "output_type": "stream",
     "text": [
      "enter direction(up/down/left/right): left\n"
     ]
    },
    {
     "name": "stdout",
     "output_type": "stream",
     "text": [
      ". . . . . . . . . . \n",
      ". . . . . . . . . . \n",
      ". . . . . . . . . . \n",
      ". . . . . . . . . . \n",
      ". . . . . . . . . f \n",
      ". . . . . . s s s . \n",
      ". . . . . . s . . . \n",
      ". . . . . s s . . . \n",
      ". . . . . . . . . . \n",
      ". . . . . . . . . . \n",
      "\n",
      "score: 5\n"
     ]
    },
    {
     "name": "stdin",
     "output_type": "stream",
     "text": [
      "enter direction(up/down/left/right): up\n"
     ]
    },
    {
     "name": "stdout",
     "output_type": "stream",
     "text": [
      ". . . . . . . . . . \n",
      ". . . . . . . . . . \n",
      ". . . . . . . . . . \n",
      ". . . . . . . . . . \n",
      ". . . . . . . . . f \n",
      ". . . . . . s s . . \n",
      ". . . . . s s . . . \n",
      ". . . . . s s . . . \n",
      ". . . . . . . . . . \n",
      ". . . . . . . . . . \n",
      "\n",
      "score: 5\n"
     ]
    },
    {
     "name": "stdin",
     "output_type": "stream",
     "text": [
      "enter direction(up/down/left/right): up\n"
     ]
    },
    {
     "name": "stdout",
     "output_type": "stream",
     "text": [
      ". . . . . . . . . . \n",
      ". . . . . . . . . . \n",
      ". . . . . . . . . . \n",
      ". . . . . . . . . . \n",
      ". . . . . . . . . f \n",
      ". . . . . s s . . . \n",
      ". . . . . s s . . . \n",
      ". . . . . s s . . . \n",
      ". . . . . . . . . . \n",
      ". . . . . . . . . . \n",
      "\n",
      "score: 5\n"
     ]
    },
    {
     "name": "stdin",
     "output_type": "stream",
     "text": [
      "enter direction(up/down/left/right): up\n"
     ]
    },
    {
     "name": "stdout",
     "output_type": "stream",
     "text": [
      ". . . . . . . . . . \n",
      ". . . . . . . . . . \n",
      ". . . . . . . . . . \n",
      ". . . . . . . . . . \n",
      ". . . . . s . . . f \n",
      ". . . . . s . . . . \n",
      ". . . . . s s . . . \n",
      ". . . . . s s . . . \n",
      ". . . . . . . . . . \n",
      ". . . . . . . . . . \n",
      "\n",
      "score: 5\n"
     ]
    },
    {
     "name": "stdin",
     "output_type": "stream",
     "text": [
      "enter direction(up/down/left/right): right\n"
     ]
    },
    {
     "name": "stdout",
     "output_type": "stream",
     "text": [
      ". . . . . . . . . . \n",
      ". . . . . . . . . . \n",
      ". . . . . . . . . . \n",
      ". . . . . . . . . . \n",
      ". . . . . s s . . f \n",
      ". . . . . s . . . . \n",
      ". . . . . s . . . . \n",
      ". . . . . s s . . . \n",
      ". . . . . . . . . . \n",
      ". . . . . . . . . . \n",
      "\n",
      "score: 5\n"
     ]
    },
    {
     "name": "stdin",
     "output_type": "stream",
     "text": [
      "enter direction(up/down/left/right): right\n"
     ]
    },
    {
     "name": "stdout",
     "output_type": "stream",
     "text": [
      ". . . . . . . . . . \n",
      ". . . . . . . . . . \n",
      ". . . . . . . . . . \n",
      ". . . . . . . . . . \n",
      ". . . . . s s s . f \n",
      ". . . . . s . . . . \n",
      ". . . . . s . . . . \n",
      ". . . . . s . . . . \n",
      ". . . . . . . . . . \n",
      ". . . . . . . . . . \n",
      "\n",
      "score: 5\n"
     ]
    },
    {
     "name": "stdin",
     "output_type": "stream",
     "text": [
      "enter direction(up/down/left/right): right\n"
     ]
    },
    {
     "name": "stdout",
     "output_type": "stream",
     "text": [
      ". . . . . . . . . . \n",
      ". . . . . . . . . . \n",
      ". . . . . . . . . . \n",
      ". . . . . . . . . . \n",
      ". . . . . s s s s f \n",
      ". . . . . s . . . . \n",
      ". . . . . s . . . . \n",
      ". . . . . . . . . . \n",
      ". . . . . . . . . . \n",
      ". . . . . . . . . . \n",
      "\n",
      "score: 5\n"
     ]
    },
    {
     "name": "stdin",
     "output_type": "stream",
     "text": [
      "enter direction(up/down/left/right): right\n"
     ]
    },
    {
     "name": "stdout",
     "output_type": "stream",
     "text": [
      ". . . . . . . . . . \n",
      ". . . . . . . . . . \n",
      ". . . . . . . . . . \n",
      ". . . . . . . . . . \n",
      ". . . . . s s s s s \n",
      ". . . . . s . . . . \n",
      ". . . . . s . . . . \n",
      ". . . . . . . . . . \n",
      ". . . f . . . . . . \n",
      ". . . . . . . . . . \n",
      "\n",
      "score: 6\n"
     ]
    },
    {
     "name": "stdin",
     "output_type": "stream",
     "text": [
      "enter direction(up/down/left/right): down\n"
     ]
    },
    {
     "name": "stdout",
     "output_type": "stream",
     "text": [
      ". . . . . . . . . . \n",
      ". . . . . . . . . . \n",
      ". . . . . . . . . . \n",
      ". . . . . . . . . . \n",
      ". . . . . s s s s s \n",
      ". . . . . s . . . s \n",
      ". . . . . . . . . . \n",
      ". . . . . . . . . . \n",
      ". . . f . . . . . . \n",
      ". . . . . . . . . . \n",
      "\n",
      "score: 6\n"
     ]
    },
    {
     "name": "stdin",
     "output_type": "stream",
     "text": [
      "enter direction(up/down/left/right): down\n"
     ]
    },
    {
     "name": "stdout",
     "output_type": "stream",
     "text": [
      ". . . . . . . . . . \n",
      ". . . . . . . . . . \n",
      ". . . . . . . . . . \n",
      ". . . . . . . . . . \n",
      ". . . . . s s s s s \n",
      ". . . . . . . . . s \n",
      ". . . . . . . . . s \n",
      ". . . . . . . . . . \n",
      ". . . f . . . . . . \n",
      ". . . . . . . . . . \n",
      "\n",
      "score: 6\n"
     ]
    },
    {
     "name": "stdin",
     "output_type": "stream",
     "text": [
      "enter direction(up/down/left/right): down\n"
     ]
    },
    {
     "name": "stdout",
     "output_type": "stream",
     "text": [
      ". . . . . . . . . . \n",
      ". . . . . . . . . . \n",
      ". . . . . . . . . . \n",
      ". . . . . . . . . . \n",
      ". . . . . . s s s s \n",
      ". . . . . . . . . s \n",
      ". . . . . . . . . s \n",
      ". . . . . . . . . s \n",
      ". . . f . . . . . . \n",
      ". . . . . . . . . . \n",
      "\n",
      "score: 6\n"
     ]
    },
    {
     "name": "stdin",
     "output_type": "stream",
     "text": [
      "enter direction(up/down/left/right): down\n"
     ]
    },
    {
     "name": "stdout",
     "output_type": "stream",
     "text": [
      ". . . . . . . . . . \n",
      ". . . . . . . . . . \n",
      ". . . . . . . . . . \n",
      ". . . . . . . . . . \n",
      ". . . . . . . s s s \n",
      ". . . . . . . . . s \n",
      ". . . . . . . . . s \n",
      ". . . . . . . . . s \n",
      ". . . f . . . . . s \n",
      ". . . . . . . . . . \n",
      "\n",
      "score: 6\n"
     ]
    },
    {
     "name": "stdin",
     "output_type": "stream",
     "text": [
      "enter direction(up/down/left/right): left\n"
     ]
    },
    {
     "name": "stdout",
     "output_type": "stream",
     "text": [
      ". . . . . . . . . . \n",
      ". . . . . . . . . . \n",
      ". . . . . . . . . . \n",
      ". . . . . . . . . . \n",
      ". . . . . . . . s s \n",
      ". . . . . . . . . s \n",
      ". . . . . . . . . s \n",
      ". . . . . . . . . s \n",
      ". . . f . . . . s s \n",
      ". . . . . . . . . . \n",
      "\n",
      "score: 6\n"
     ]
    },
    {
     "name": "stdin",
     "output_type": "stream",
     "text": [
      "enter direction(up/down/left/right): left\n"
     ]
    },
    {
     "name": "stdout",
     "output_type": "stream",
     "text": [
      ". . . . . . . . . . \n",
      ". . . . . . . . . . \n",
      ". . . . . . . . . . \n",
      ". . . . . . . . . . \n",
      ". . . . . . . . . s \n",
      ". . . . . . . . . s \n",
      ". . . . . . . . . s \n",
      ". . . . . . . . . s \n",
      ". . . f . . . s s s \n",
      ". . . . . . . . . . \n",
      "\n",
      "score: 6\n"
     ]
    },
    {
     "name": "stdin",
     "output_type": "stream",
     "text": [
      "enter direction(up/down/left/right): left\n"
     ]
    },
    {
     "name": "stdout",
     "output_type": "stream",
     "text": [
      ". . . . . . . . . . \n",
      ". . . . . . . . . . \n",
      ". . . . . . . . . . \n",
      ". . . . . . . . . . \n",
      ". . . . . . . . . . \n",
      ". . . . . . . . . s \n",
      ". . . . . . . . . s \n",
      ". . . . . . . . . s \n",
      ". . . f . . s s s s \n",
      ". . . . . . . . . . \n",
      "\n",
      "score: 6\n"
     ]
    },
    {
     "name": "stdin",
     "output_type": "stream",
     "text": [
      "enter direction(up/down/left/right): left\n"
     ]
    },
    {
     "name": "stdout",
     "output_type": "stream",
     "text": [
      ". . . . . . . . . . \n",
      ". . . . . . . . . . \n",
      ". . . . . . . . . . \n",
      ". . . . . . . . . . \n",
      ". . . . . . . . . . \n",
      ". . . . . . . . . . \n",
      ". . . . . . . . . s \n",
      ". . . . . . . . . s \n",
      ". . . f . s s s s s \n",
      ". . . . . . . . . . \n",
      "\n",
      "score: 6\n"
     ]
    },
    {
     "name": "stdin",
     "output_type": "stream",
     "text": [
      "enter direction(up/down/left/right): left\n"
     ]
    },
    {
     "name": "stdout",
     "output_type": "stream",
     "text": [
      ". . . . . . . . . . \n",
      ". . . . . . . . . . \n",
      ". . . . . . . . . . \n",
      ". . . . . . . . . . \n",
      ". . . . . . . . . . \n",
      ". . . . . . . . . . \n",
      ". . . . . . . . . . \n",
      ". . . . . . . . . s \n",
      ". . . f s s s s s s \n",
      ". . . . . . . . . . \n",
      "\n",
      "score: 6\n"
     ]
    },
    {
     "name": "stdin",
     "output_type": "stream",
     "text": [
      "enter direction(up/down/left/right): left\n"
     ]
    },
    {
     "name": "stdout",
     "output_type": "stream",
     "text": [
      ". . . . . . . . . . \n",
      ". . . . . . f . . . \n",
      ". . . . . . . . . . \n",
      ". . . . . . . . . . \n",
      ". . . . . . . . . . \n",
      ". . . . . . . . . . \n",
      ". . . . . . . . . . \n",
      ". . . . . . . . . s \n",
      ". . . s s s s s s s \n",
      ". . . . . . . . . . \n",
      "\n",
      "score: 7\n"
     ]
    },
    {
     "name": "stdin",
     "output_type": "stream",
     "text": [
      "enter direction(up/down/left/right): up\n"
     ]
    },
    {
     "name": "stdout",
     "output_type": "stream",
     "text": [
      ". . . . . . . . . . \n",
      ". . . . . . f . . . \n",
      ". . . . . . . . . . \n",
      ". . . . . . . . . . \n",
      ". . . . . . . . . . \n",
      ". . . . . . . . . . \n",
      ". . . . . . . . . . \n",
      ". . . s . . . . . . \n",
      ". . . s s s s s s s \n",
      ". . . . . . . . . . \n",
      "\n",
      "score: 7\n"
     ]
    },
    {
     "name": "stdin",
     "output_type": "stream",
     "text": [
      "enter direction(up/down/left/right): up\n"
     ]
    },
    {
     "name": "stdout",
     "output_type": "stream",
     "text": [
      ". . . . . . . . . . \n",
      ". . . . . . f . . . \n",
      ". . . . . . . . . . \n",
      ". . . . . . . . . . \n",
      ". . . . . . . . . . \n",
      ". . . . . . . . . . \n",
      ". . . s . . . . . . \n",
      ". . . s . . . . . . \n",
      ". . . s s s s s s . \n",
      ". . . . . . . . . . \n",
      "\n",
      "score: 7\n"
     ]
    },
    {
     "name": "stdin",
     "output_type": "stream",
     "text": [
      "enter direction(up/down/left/right): up\n"
     ]
    },
    {
     "name": "stdout",
     "output_type": "stream",
     "text": [
      ". . . . . . . . . . \n",
      ". . . . . . f . . . \n",
      ". . . . . . . . . . \n",
      ". . . . . . . . . . \n",
      ". . . . . . . . . . \n",
      ". . . s . . . . . . \n",
      ". . . s . . . . . . \n",
      ". . . s . . . . . . \n",
      ". . . s s s s s . . \n",
      ". . . . . . . . . . \n",
      "\n",
      "score: 7\n"
     ]
    },
    {
     "name": "stdin",
     "output_type": "stream",
     "text": [
      "enter direction(up/down/left/right): up\n"
     ]
    },
    {
     "name": "stdout",
     "output_type": "stream",
     "text": [
      ". . . . . . . . . . \n",
      ". . . . . . f . . . \n",
      ". . . . . . . . . . \n",
      ". . . . . . . . . . \n",
      ". . . s . . . . . . \n",
      ". . . s . . . . . . \n",
      ". . . s . . . . . . \n",
      ". . . s . . . . . . \n",
      ". . . s s s s . . . \n",
      ". . . . . . . . . . \n",
      "\n",
      "score: 7\n"
     ]
    },
    {
     "name": "stdin",
     "output_type": "stream",
     "text": [
      "enter direction(up/down/left/right): up\n"
     ]
    },
    {
     "name": "stdout",
     "output_type": "stream",
     "text": [
      ". . . . . . . . . . \n",
      ". . . . . . f . . . \n",
      ". . . . . . . . . . \n",
      ". . . s . . . . . . \n",
      ". . . s . . . . . . \n",
      ". . . s . . . . . . \n",
      ". . . s . . . . . . \n",
      ". . . s . . . . . . \n",
      ". . . s s s . . . . \n",
      ". . . . . . . . . . \n",
      "\n",
      "score: 7\n"
     ]
    },
    {
     "name": "stdin",
     "output_type": "stream",
     "text": [
      "enter direction(up/down/left/right): up\n"
     ]
    },
    {
     "name": "stdout",
     "output_type": "stream",
     "text": [
      ". . . . . . . . . . \n",
      ". . . . . . f . . . \n",
      ". . . s . . . . . . \n",
      ". . . s . . . . . . \n",
      ". . . s . . . . . . \n",
      ". . . s . . . . . . \n",
      ". . . s . . . . . . \n",
      ". . . s . . . . . . \n",
      ". . . s s . . . . . \n",
      ". . . . . . . . . . \n",
      "\n",
      "score: 7\n"
     ]
    },
    {
     "name": "stdin",
     "output_type": "stream",
     "text": [
      "enter direction(up/down/left/right): up\n"
     ]
    },
    {
     "name": "stdout",
     "output_type": "stream",
     "text": [
      ". . . . . . . . . . \n",
      ". . . s . . f . . . \n",
      ". . . s . . . . . . \n",
      ". . . s . . . . . . \n",
      ". . . s . . . . . . \n",
      ". . . s . . . . . . \n",
      ". . . s . . . . . . \n",
      ". . . s . . . . . . \n",
      ". . . s . . . . . . \n",
      ". . . . . . . . . . \n",
      "\n",
      "score: 7\n"
     ]
    },
    {
     "name": "stdin",
     "output_type": "stream",
     "text": [
      "enter direction(up/down/left/right): right\n"
     ]
    },
    {
     "name": "stdout",
     "output_type": "stream",
     "text": [
      ". . . . . . . . . . \n",
      ". . . s s . f . . . \n",
      ". . . s . . . . . . \n",
      ". . . s . . . . . . \n",
      ". . . s . . . . . . \n",
      ". . . s . . . . . . \n",
      ". . . s . . . . . . \n",
      ". . . s . . . . . . \n",
      ". . . . . . . . . . \n",
      ". . . . . . . . . . \n",
      "\n",
      "score: 7\n"
     ]
    },
    {
     "name": "stdin",
     "output_type": "stream",
     "text": [
      "enter direction(up/down/left/right): right\n"
     ]
    },
    {
     "name": "stdout",
     "output_type": "stream",
     "text": [
      ". . . . . . . . . . \n",
      ". . . s s s f . . . \n",
      ". . . s . . . . . . \n",
      ". . . s . . . . . . \n",
      ". . . s . . . . . . \n",
      ". . . s . . . . . . \n",
      ". . . s . . . . . . \n",
      ". . . . . . . . . . \n",
      ". . . . . . . . . . \n",
      ". . . . . . . . . . \n",
      "\n",
      "score: 7\n"
     ]
    },
    {
     "name": "stdin",
     "output_type": "stream",
     "text": [
      "enter direction(up/down/left/right): right\n"
     ]
    },
    {
     "name": "stdout",
     "output_type": "stream",
     "text": [
      ". . . . . . . . . . \n",
      ". . . s s s s . . . \n",
      ". . . s . . . f . . \n",
      ". . . s . . . . . . \n",
      ". . . s . . . . . . \n",
      ". . . s . . . . . . \n",
      ". . . s . . . . . . \n",
      ". . . . . . . . . . \n",
      ". . . . . . . . . . \n",
      ". . . . . . . . . . \n",
      "\n",
      "score: 8\n"
     ]
    },
    {
     "name": "stdin",
     "output_type": "stream",
     "text": [
      "enter direction(up/down/left/right): right\n"
     ]
    },
    {
     "name": "stdout",
     "output_type": "stream",
     "text": [
      ". . . . . . . . . . \n",
      ". . . s s s s s . . \n",
      ". . . s . . . f . . \n",
      ". . . s . . . . . . \n",
      ". . . s . . . . . . \n",
      ". . . s . . . . . . \n",
      ". . . . . . . . . . \n",
      ". . . . . . . . . . \n",
      ". . . . . . . . . . \n",
      ". . . . . . . . . . \n",
      "\n",
      "score: 8\n"
     ]
    },
    {
     "name": "stdin",
     "output_type": "stream",
     "text": [
      "enter direction(up/down/left/right): down\n"
     ]
    },
    {
     "name": "stdout",
     "output_type": "stream",
     "text": [
      ". . . . . . . . . . \n",
      ". . . s s s s s . . \n",
      ". . . s . . . s . . \n",
      ". . . s . . . . . . \n",
      ". . . s . . . . . . \n",
      ". . . s . . . . . . \n",
      ". . . . . . . . . . \n",
      ". . . f . . . . . . \n",
      ". . . . . . . . . . \n",
      ". . . . . . . . . . \n",
      "\n",
      "score: 9\n"
     ]
    },
    {
     "name": "stdin",
     "output_type": "stream",
     "text": [
      "enter direction(up/down/left/right): down\n"
     ]
    },
    {
     "name": "stdout",
     "output_type": "stream",
     "text": [
      ". . . . . . . . . . \n",
      ". . . s s s s s . . \n",
      ". . . s . . . s . . \n",
      ". . . s . . . s . . \n",
      ". . . s . . . . . . \n",
      ". . . . . . . . . . \n",
      ". . . . . . . . . . \n",
      ". . . f . . . . . . \n",
      ". . . . . . . . . . \n",
      ". . . . . . . . . . \n",
      "\n",
      "score: 9\n"
     ]
    },
    {
     "name": "stdin",
     "output_type": "stream",
     "text": [
      "enter direction(up/down/left/right): down\n"
     ]
    },
    {
     "name": "stdout",
     "output_type": "stream",
     "text": [
      ". . . . . . . . . . \n",
      ". . . s s s s s . . \n",
      ". . . s . . . s . . \n",
      ". . . s . . . s . . \n",
      ". . . . . . . s . . \n",
      ". . . . . . . . . . \n",
      ". . . . . . . . . . \n",
      ". . . f . . . . . . \n",
      ". . . . . . . . . . \n",
      ". . . . . . . . . . \n",
      "\n",
      "score: 9\n"
     ]
    },
    {
     "name": "stdin",
     "output_type": "stream",
     "text": [
      "enter direction(up/down/left/right): down\n"
     ]
    },
    {
     "name": "stdout",
     "output_type": "stream",
     "text": [
      ". . . . . . . . . . \n",
      ". . . s s s s s . . \n",
      ". . . s . . . s . . \n",
      ". . . . . . . s . . \n",
      ". . . . . . . s . . \n",
      ". . . . . . . s . . \n",
      ". . . . . . . . . . \n",
      ". . . f . . . . . . \n",
      ". . . . . . . . . . \n",
      ". . . . . . . . . . \n",
      "\n",
      "score: 9\n"
     ]
    },
    {
     "name": "stdin",
     "output_type": "stream",
     "text": [
      "enter direction(up/down/left/right): down\n"
     ]
    },
    {
     "name": "stdout",
     "output_type": "stream",
     "text": [
      ". . . . . . . . . . \n",
      ". . . s s s s s . . \n",
      ". . . . . . . s . . \n",
      ". . . . . . . s . . \n",
      ". . . . . . . s . . \n",
      ". . . . . . . s . . \n",
      ". . . . . . . s . . \n",
      ". . . f . . . . . . \n",
      ". . . . . . . . . . \n",
      ". . . . . . . . . . \n",
      "\n",
      "score: 9\n"
     ]
    },
    {
     "name": "stdin",
     "output_type": "stream",
     "text": [
      "enter direction(up/down/left/right): down\n"
     ]
    },
    {
     "name": "stdout",
     "output_type": "stream",
     "text": [
      ". . . . . . . . . . \n",
      ". . . . s s s s . . \n",
      ". . . . . . . s . . \n",
      ". . . . . . . s . . \n",
      ". . . . . . . s . . \n",
      ". . . . . . . s . . \n",
      ". . . . . . . s . . \n",
      ". . . f . . . s . . \n",
      ". . . . . . . . . . \n",
      ". . . . . . . . . . \n",
      "\n",
      "score: 9\n"
     ]
    },
    {
     "name": "stdin",
     "output_type": "stream",
     "text": [
      "enter direction(up/down/left/right): left\n"
     ]
    },
    {
     "name": "stdout",
     "output_type": "stream",
     "text": [
      ". . . . . . . . . . \n",
      ". . . . . s s s . . \n",
      ". . . . . . . s . . \n",
      ". . . . . . . s . . \n",
      ". . . . . . . s . . \n",
      ". . . . . . . s . . \n",
      ". . . . . . . s . . \n",
      ". . . f . . s s . . \n",
      ". . . . . . . . . . \n",
      ". . . . . . . . . . \n",
      "\n",
      "score: 9\n"
     ]
    },
    {
     "name": "stdin",
     "output_type": "stream",
     "text": [
      "enter direction(up/down/left/right): left\n"
     ]
    },
    {
     "name": "stdout",
     "output_type": "stream",
     "text": [
      ". . . . . . . . . . \n",
      ". . . . . . s s . . \n",
      ". . . . . . . s . . \n",
      ". . . . . . . s . . \n",
      ". . . . . . . s . . \n",
      ". . . . . . . s . . \n",
      ". . . . . . . s . . \n",
      ". . . f . s s s . . \n",
      ". . . . . . . . . . \n",
      ". . . . . . . . . . \n",
      "\n",
      "score: 9\n"
     ]
    },
    {
     "name": "stdin",
     "output_type": "stream",
     "text": [
      "enter direction(up/down/left/right): left\n"
     ]
    },
    {
     "name": "stdout",
     "output_type": "stream",
     "text": [
      ". . . . . . . . . . \n",
      ". . . . . . . s . . \n",
      ". . . . . . . s . . \n",
      ". . . . . . . s . . \n",
      ". . . . . . . s . . \n",
      ". . . . . . . s . . \n",
      ". . . . . . . s . . \n",
      ". . . f s s s s . . \n",
      ". . . . . . . . . . \n",
      ". . . . . . . . . . \n",
      "\n",
      "score: 9\n"
     ]
    },
    {
     "name": "stdin",
     "output_type": "stream",
     "text": [
      "enter direction(up/down/left/right): left\n"
     ]
    },
    {
     "name": "stdout",
     "output_type": "stream",
     "text": [
      ". . . . . . . . . . \n",
      ". . . . . . f s . . \n",
      ". . . . . . . s . . \n",
      ". . . . . . . s . . \n",
      ". . . . . . . s . . \n",
      ". . . . . . . s . . \n",
      ". . . . . . . s . . \n",
      ". . . s s s s s . . \n",
      ". . . . . . . . . . \n",
      ". . . . . . . . . . \n",
      "\n",
      "score: 10\n"
     ]
    },
    {
     "name": "stdin",
     "output_type": "stream",
     "text": [
      "enter direction(up/down/left/right): up\n"
     ]
    },
    {
     "name": "stdout",
     "output_type": "stream",
     "text": [
      ". . . . . . . . . . \n",
      ". . . . . . f . . . \n",
      ". . . . . . . s . . \n",
      ". . . . . . . s . . \n",
      ". . . . . . . s . . \n",
      ". . . . . . . s . . \n",
      ". . . s . . . s . . \n",
      ". . . s s s s s . . \n",
      ". . . . . . . . . . \n",
      ". . . . . . . . . . \n",
      "\n",
      "score: 10\n"
     ]
    },
    {
     "name": "stdin",
     "output_type": "stream",
     "text": [
      "enter direction(up/down/left/right): up\n"
     ]
    },
    {
     "name": "stdout",
     "output_type": "stream",
     "text": [
      ". . . . . . . . . . \n",
      ". . . . . . f . . . \n",
      ". . . . . . . . . . \n",
      ". . . . . . . s . . \n",
      ". . . . . . . s . . \n",
      ". . . s . . . s . . \n",
      ". . . s . . . s . . \n",
      ". . . s s s s s . . \n",
      ". . . . . . . . . . \n",
      ". . . . . . . . . . \n",
      "\n",
      "score: 10\n"
     ]
    },
    {
     "name": "stdin",
     "output_type": "stream",
     "text": [
      "enter direction(up/down/left/right): up\n"
     ]
    },
    {
     "name": "stdout",
     "output_type": "stream",
     "text": [
      ". . . . . . . . . . \n",
      ". . . . . . f . . . \n",
      ". . . . . . . . . . \n",
      ". . . . . . . . . . \n",
      ". . . s . . . s . . \n",
      ". . . s . . . s . . \n",
      ". . . s . . . s . . \n",
      ". . . s s s s s . . \n",
      ". . . . . . . . . . \n",
      ". . . . . . . . . . \n",
      "\n",
      "score: 10\n"
     ]
    },
    {
     "name": "stdin",
     "output_type": "stream",
     "text": [
      "enter direction(up/down/left/right): up\n"
     ]
    },
    {
     "name": "stdout",
     "output_type": "stream",
     "text": [
      ". . . . . . . . . . \n",
      ". . . . . . f . . . \n",
      ". . . . . . . . . . \n",
      ". . . s . . . . . . \n",
      ". . . s . . . . . . \n",
      ". . . s . . . s . . \n",
      ". . . s . . . s . . \n",
      ". . . s s s s s . . \n",
      ". . . . . . . . . . \n",
      ". . . . . . . . . . \n",
      "\n",
      "score: 10\n"
     ]
    },
    {
     "name": "stdin",
     "output_type": "stream",
     "text": [
      "enter direction(up/down/left/right): up\n"
     ]
    },
    {
     "name": "stdout",
     "output_type": "stream",
     "text": [
      ". . . . . . . . . . \n",
      ". . . . . . f . . . \n",
      ". . . s . . . . . . \n",
      ". . . s . . . . . . \n",
      ". . . s . . . . . . \n",
      ". . . s . . . . . . \n",
      ". . . s . . . s . . \n",
      ". . . s s s s s . . \n",
      ". . . . . . . . . . \n",
      ". . . . . . . . . . \n",
      "\n",
      "score: 10\n"
     ]
    },
    {
     "name": "stdin",
     "output_type": "stream",
     "text": [
      "enter direction(up/down/left/right): up\n"
     ]
    },
    {
     "name": "stdout",
     "output_type": "stream",
     "text": [
      ". . . . . . . . . . \n",
      ". . . s . . f . . . \n",
      ". . . s . . . . . . \n",
      ". . . s . . . . . . \n",
      ". . . s . . . . . . \n",
      ". . . s . . . . . . \n",
      ". . . s . . . . . . \n",
      ". . . s s s s s . . \n",
      ". . . . . . . . . . \n",
      ". . . . . . . . . . \n",
      "\n",
      "score: 10\n"
     ]
    },
    {
     "name": "stdin",
     "output_type": "stream",
     "text": [
      "enter direction(up/down/left/right): right\n"
     ]
    },
    {
     "name": "stdout",
     "output_type": "stream",
     "text": [
      ". . . . . . . . . . \n",
      ". . . s s . f . . . \n",
      ". . . s . . . . . . \n",
      ". . . s . . . . . . \n",
      ". . . s . . . . . . \n",
      ". . . s . . . . . . \n",
      ". . . s . . . . . . \n",
      ". . . s s s s . . . \n",
      ". . . . . . . . . . \n",
      ". . . . . . . . . . \n",
      "\n",
      "score: 10\n"
     ]
    },
    {
     "name": "stdin",
     "output_type": "stream",
     "text": [
      "enter direction(up/down/left/right): right\n"
     ]
    },
    {
     "name": "stdout",
     "output_type": "stream",
     "text": [
      ". . . . . . . . . . \n",
      ". . . s s s f . . . \n",
      ". . . s . . . . . . \n",
      ". . . s . . . . . . \n",
      ". . . s . . . . . . \n",
      ". . . s . . . . . . \n",
      ". . . s . . . . . . \n",
      ". . . s s s . . . . \n",
      ". . . . . . . . . . \n",
      ". . . . . . . . . . \n",
      "\n",
      "score: 10\n"
     ]
    },
    {
     "name": "stdin",
     "output_type": "stream",
     "text": [
      "enter direction(up/down/left/right): right\n"
     ]
    },
    {
     "name": "stdout",
     "output_type": "stream",
     "text": [
      "f . . . . . . . . . \n",
      ". . . s s s s . . . \n",
      ". . . s . . . . . . \n",
      ". . . s . . . . . . \n",
      ". . . s . . . . . . \n",
      ". . . s . . . . . . \n",
      ". . . s . . . . . . \n",
      ". . . s s s . . . . \n",
      ". . . . . . . . . . \n",
      ". . . . . . . . . . \n",
      "\n",
      "score: 11\n"
     ]
    },
    {
     "name": "stdin",
     "output_type": "stream",
     "text": [
      "enter direction(up/down/left/right): up\n"
     ]
    },
    {
     "name": "stdout",
     "output_type": "stream",
     "text": [
      "f . . . . . s . . . \n",
      ". . . s s s s . . . \n",
      ". . . s . . . . . . \n",
      ". . . s . . . . . . \n",
      ". . . s . . . . . . \n",
      ". . . s . . . . . . \n",
      ". . . s . . . . . . \n",
      ". . . s s . . . . . \n",
      ". . . . . . . . . . \n",
      ". . . . . . . . . . \n",
      "\n",
      "score: 11\n"
     ]
    },
    {
     "name": "stdin",
     "output_type": "stream",
     "text": [
      "enter direction(up/down/left/right): left\n"
     ]
    },
    {
     "name": "stdout",
     "output_type": "stream",
     "text": [
      "f . . . . s s . . . \n",
      ". . . s s s s . . . \n",
      ". . . s . . . . . . \n",
      ". . . s . . . . . . \n",
      ". . . s . . . . . . \n",
      ". . . s . . . . . . \n",
      ". . . s . . . . . . \n",
      ". . . s . . . . . . \n",
      ". . . . . . . . . . \n",
      ". . . . . . . . . . \n",
      "\n",
      "score: 11\n"
     ]
    },
    {
     "name": "stdin",
     "output_type": "stream",
     "text": [
      "enter direction(up/down/left/right): left\n"
     ]
    },
    {
     "name": "stdout",
     "output_type": "stream",
     "text": [
      "f . . . s s s . . . \n",
      ". . . s s s s . . . \n",
      ". . . s . . . . . . \n",
      ". . . s . . . . . . \n",
      ". . . s . . . . . . \n",
      ". . . s . . . . . . \n",
      ". . . s . . . . . . \n",
      ". . . . . . . . . . \n",
      ". . . . . . . . . . \n",
      ". . . . . . . . . . \n",
      "\n",
      "score: 11\n"
     ]
    },
    {
     "name": "stdin",
     "output_type": "stream",
     "text": [
      "enter direction(up/down/left/right): left\n"
     ]
    },
    {
     "name": "stdout",
     "output_type": "stream",
     "text": [
      "f . . s s s s . . . \n",
      ". . . s s s s . . . \n",
      ". . . s . . . . . . \n",
      ". . . s . . . . . . \n",
      ". . . s . . . . . . \n",
      ". . . s . . . . . . \n",
      ". . . . . . . . . . \n",
      ". . . . . . . . . . \n",
      ". . . . . . . . . . \n",
      ". . . . . . . . . . \n",
      "\n",
      "score: 11\n"
     ]
    },
    {
     "name": "stdin",
     "output_type": "stream",
     "text": [
      "enter direction(up/down/left/right): left\n"
     ]
    },
    {
     "name": "stdout",
     "output_type": "stream",
     "text": [
      "f . s s s s s . . . \n",
      ". . . s s s s . . . \n",
      ". . . s . . . . . . \n",
      ". . . s . . . . . . \n",
      ". . . s . . . . . . \n",
      ". . . . . . . . . . \n",
      ". . . . . . . . . . \n",
      ". . . . . . . . . . \n",
      ". . . . . . . . . . \n",
      ". . . . . . . . . . \n",
      "\n",
      "score: 11\n"
     ]
    },
    {
     "name": "stdin",
     "output_type": "stream",
     "text": [
      "enter direction(up/down/left/right): left\n"
     ]
    },
    {
     "name": "stdout",
     "output_type": "stream",
     "text": [
      "f s s s s s s . . . \n",
      ". . . s s s s . . . \n",
      ". . . s . . . . . . \n",
      ". . . s . . . . . . \n",
      ". . . . . . . . . . \n",
      ". . . . . . . . . . \n",
      ". . . . . . . . . . \n",
      ". . . . . . . . . . \n",
      ". . . . . . . . . . \n",
      ". . . . . . . . . . \n",
      "\n",
      "score: 11\n"
     ]
    },
    {
     "name": "stdin",
     "output_type": "stream",
     "text": [
      "enter direction(up/down/left/right): left\n"
     ]
    },
    {
     "name": "stdout",
     "output_type": "stream",
     "text": [
      "s s s s s s s . . . \n",
      ". . . s s s s . . . \n",
      ". . . s . . . . . . \n",
      ". . . s . . . . . . \n",
      ". . . . . . . . . . \n",
      ". . . . . . . . . . \n",
      ". . . . . f . . . . \n",
      ". . . . . . . . . . \n",
      ". . . . . . . . . . \n",
      ". . . . . . . . . . \n",
      "\n",
      "score: 12\n"
     ]
    },
    {
     "name": "stdin",
     "output_type": "stream",
     "text": [
      "enter direction(up/down/left/right): down\n"
     ]
    },
    {
     "name": "stdout",
     "output_type": "stream",
     "text": [
      "s s s s s s s . . . \n",
      "s . . s s s s . . . \n",
      ". . . s . . . . . . \n",
      ". . . . . . . . . . \n",
      ". . . . . . . . . . \n",
      ". . . . . . . . . . \n",
      ". . . . . f . . . . \n",
      ". . . . . . . . . . \n",
      ". . . . . . . . . . \n",
      ". . . . . . . . . . \n",
      "\n",
      "score: 12\n"
     ]
    },
    {
     "name": "stdin",
     "output_type": "stream",
     "text": [
      "enter direction(up/down/left/right): down\n"
     ]
    },
    {
     "name": "stdout",
     "output_type": "stream",
     "text": [
      "s s s s s s s . . . \n",
      "s . . s s s s . . . \n",
      "s . . . . . . . . . \n",
      ". . . . . . . . . . \n",
      ". . . . . . . . . . \n",
      ". . . . . . . . . . \n",
      ". . . . . f . . . . \n",
      ". . . . . . . . . . \n",
      ". . . . . . . . . . \n",
      ". . . . . . . . . . \n",
      "\n",
      "score: 12\n"
     ]
    },
    {
     "name": "stdin",
     "output_type": "stream",
     "text": [
      "enter direction(up/down/left/right): down\n"
     ]
    },
    {
     "name": "stdout",
     "output_type": "stream",
     "text": [
      "s s s s s s s . . . \n",
      "s . . . s s s . . . \n",
      "s . . . . . . . . . \n",
      "s . . . . . . . . . \n",
      ". . . . . . . . . . \n",
      ". . . . . . . . . . \n",
      ". . . . . f . . . . \n",
      ". . . . . . . . . . \n",
      ". . . . . . . . . . \n",
      ". . . . . . . . . . \n",
      "\n",
      "score: 12\n"
     ]
    },
    {
     "name": "stdin",
     "output_type": "stream",
     "text": [
      "enter direction(up/down/left/right): down\n"
     ]
    },
    {
     "name": "stdout",
     "output_type": "stream",
     "text": [
      "s s s s s s s . . . \n",
      "s . . . . s s . . . \n",
      "s . . . . . . . . . \n",
      "s . . . . . . . . . \n",
      "s . . . . . . . . . \n",
      ". . . . . . . . . . \n",
      ". . . . . f . . . . \n",
      ". . . . . . . . . . \n",
      ". . . . . . . . . . \n",
      ". . . . . . . . . . \n",
      "\n",
      "score: 12\n"
     ]
    },
    {
     "name": "stdin",
     "output_type": "stream",
     "text": [
      "enter direction(up/down/left/right): down\n"
     ]
    },
    {
     "name": "stdout",
     "output_type": "stream",
     "text": [
      "s s s s s s s . . . \n",
      "s . . . . . s . . . \n",
      "s . . . . . . . . . \n",
      "s . . . . . . . . . \n",
      "s . . . . . . . . . \n",
      "s . . . . . . . . . \n",
      ". . . . . f . . . . \n",
      ". . . . . . . . . . \n",
      ". . . . . . . . . . \n",
      ". . . . . . . . . . \n",
      "\n",
      "score: 12\n"
     ]
    },
    {
     "name": "stdin",
     "output_type": "stream",
     "text": [
      "enter direction(up/down/left/right): down\n"
     ]
    },
    {
     "name": "stdout",
     "output_type": "stream",
     "text": [
      "s s s s s s s . . . \n",
      "s . . . . . . . . . \n",
      "s . . . . . . . . . \n",
      "s . . . . . . . . . \n",
      "s . . . . . . . . . \n",
      "s . . . . . . . . . \n",
      "s . . . . f . . . . \n",
      ". . . . . . . . . . \n",
      ". . . . . . . . . . \n",
      ". . . . . . . . . . \n",
      "\n",
      "score: 12\n"
     ]
    },
    {
     "name": "stdin",
     "output_type": "stream",
     "text": [
      "enter direction(up/down/left/right): right\n"
     ]
    },
    {
     "name": "stdout",
     "output_type": "stream",
     "text": [
      "s s s s s s . . . . \n",
      "s . . . . . . . . . \n",
      "s . . . . . . . . . \n",
      "s . . . . . . . . . \n",
      "s . . . . . . . . . \n",
      "s . . . . . . . . . \n",
      "s s . . . f . . . . \n",
      ". . . . . . . . . . \n",
      ". . . . . . . . . . \n",
      ". . . . . . . . . . \n",
      "\n",
      "score: 12\n"
     ]
    },
    {
     "name": "stdin",
     "output_type": "stream",
     "text": [
      "enter direction(up/down/left/right): right\n"
     ]
    },
    {
     "name": "stdout",
     "output_type": "stream",
     "text": [
      "s s s s s . . . . . \n",
      "s . . . . . . . . . \n",
      "s . . . . . . . . . \n",
      "s . . . . . . . . . \n",
      "s . . . . . . . . . \n",
      "s . . . . . . . . . \n",
      "s s s . . f . . . . \n",
      ". . . . . . . . . . \n",
      ". . . . . . . . . . \n",
      ". . . . . . . . . . \n",
      "\n",
      "score: 12\n"
     ]
    },
    {
     "name": "stdin",
     "output_type": "stream",
     "text": [
      "enter direction(up/down/left/right): right\n"
     ]
    },
    {
     "name": "stdout",
     "output_type": "stream",
     "text": [
      "s s s s . . . . . . \n",
      "s . . . . . . . . . \n",
      "s . . . . . . . . . \n",
      "s . . . . . . . . . \n",
      "s . . . . . . . . . \n",
      "s . . . . . . . . . \n",
      "s s s s . f . . . . \n",
      ". . . . . . . . . . \n",
      ". . . . . . . . . . \n",
      ". . . . . . . . . . \n",
      "\n",
      "score: 12\n"
     ]
    },
    {
     "name": "stdin",
     "output_type": "stream",
     "text": [
      "enter direction(up/down/left/right): right\n"
     ]
    },
    {
     "name": "stdout",
     "output_type": "stream",
     "text": [
      "s s s . . . . . . . \n",
      "s . . . . . . . . . \n",
      "s . . . . . . . . . \n",
      "s . . . . . . . . . \n",
      "s . . . . . . . . . \n",
      "s . . . . . . . . . \n",
      "s s s s s f . . . . \n",
      ". . . . . . . . . . \n",
      ". . . . . . . . . . \n",
      ". . . . . . . . . . \n",
      "\n",
      "score: 12\n"
     ]
    },
    {
     "name": "stdin",
     "output_type": "stream",
     "text": [
      "enter direction(up/down/left/right): right\n"
     ]
    },
    {
     "name": "stdout",
     "output_type": "stream",
     "text": [
      "s s s . . . . . . . \n",
      "s . . . . . . . . . \n",
      "s . . . . . . . . . \n",
      "s . . . . . . . . . \n",
      "s . . . . . . . . . \n",
      "s . . . . . . . . . \n",
      "s s s s s s . . . . \n",
      ". . . . . . . f . . \n",
      ". . . . . . . . . . \n",
      ". . . . . . . . . . \n",
      "\n",
      "score: 13\n"
     ]
    },
    {
     "name": "stdin",
     "output_type": "stream",
     "text": [
      "enter direction(up/down/left/right): right\n"
     ]
    },
    {
     "name": "stdout",
     "output_type": "stream",
     "text": [
      "s s . . . . . . . . \n",
      "s . . . . . . . . . \n",
      "s . . . . . . . . . \n",
      "s . . . . . . . . . \n",
      "s . . . . . . . . . \n",
      "s . . . . . . . . . \n",
      "s s s s s s s . . . \n",
      ". . . . . . . f . . \n",
      ". . . . . . . . . . \n",
      ". . . . . . . . . . \n",
      "\n",
      "score: 13\n"
     ]
    },
    {
     "name": "stdin",
     "output_type": "stream",
     "text": [
      "enter direction(up/down/left/right): right\n"
     ]
    },
    {
     "name": "stdout",
     "output_type": "stream",
     "text": [
      "s . . . . . . . . . \n",
      "s . . . . . . . . . \n",
      "s . . . . . . . . . \n",
      "s . . . . . . . . . \n",
      "s . . . . . . . . . \n",
      "s . . . . . . . . . \n",
      "s s s s s s s s . . \n",
      ". . . . . . . f . . \n",
      ". . . . . . . . . . \n",
      ". . . . . . . . . . \n",
      "\n",
      "score: 13\n"
     ]
    },
    {
     "name": "stdin",
     "output_type": "stream",
     "text": [
      "enter direction(up/down/left/right): down\n"
     ]
    },
    {
     "name": "stdout",
     "output_type": "stream",
     "text": [
      "s . . . . . . . . . \n",
      "s . . . . . f . . . \n",
      "s . . . . . . . . . \n",
      "s . . . . . . . . . \n",
      "s . . . . . . . . . \n",
      "s . . . . . . . . . \n",
      "s s s s s s s s . . \n",
      ". . . . . . . s . . \n",
      ". . . . . . . . . . \n",
      ". . . . . . . . . . \n",
      "\n",
      "score: 14\n"
     ]
    },
    {
     "name": "stdin",
     "output_type": "stream",
     "text": [
      "enter direction(up/down/left/right): right\n"
     ]
    },
    {
     "name": "stdout",
     "output_type": "stream",
     "text": [
      ". . . . . . . . . . \n",
      "s . . . . . f . . . \n",
      "s . . . . . . . . . \n",
      "s . . . . . . . . . \n",
      "s . . . . . . . . . \n",
      "s . . . . . . . . . \n",
      "s s s s s s s s . . \n",
      ". . . . . . . s s . \n",
      ". . . . . . . . . . \n",
      ". . . . . . . . . . \n",
      "\n",
      "score: 14\n"
     ]
    },
    {
     "name": "stdin",
     "output_type": "stream",
     "text": [
      "enter direction(up/down/left/right): up\n"
     ]
    },
    {
     "name": "stdout",
     "output_type": "stream",
     "text": [
      ". . . . . . . . . . \n",
      ". . . . . . f . . . \n",
      "s . . . . . . . . . \n",
      "s . . . . . . . . . \n",
      "s . . . . . . . . . \n",
      "s . . . . . . . . . \n",
      "s s s s s s s s s . \n",
      ". . . . . . . s s . \n",
      ". . . . . . . . . . \n",
      ". . . . . . . . . . \n",
      "\n",
      "score: 14\n"
     ]
    },
    {
     "name": "stdin",
     "output_type": "stream",
     "text": [
      "enter direction(up/down/left/right): up\n"
     ]
    },
    {
     "name": "stdout",
     "output_type": "stream",
     "text": [
      ". . . . . . . . . . \n",
      ". . . . . . f . . . \n",
      ". . . . . . . . . . \n",
      "s . . . . . . . . . \n",
      "s . . . . . . . . . \n",
      "s . . . . . . . s . \n",
      "s s s s s s s s s . \n",
      ". . . . . . . s s . \n",
      ". . . . . . . . . . \n",
      ". . . . . . . . . . \n",
      "\n",
      "score: 14\n"
     ]
    },
    {
     "name": "stdin",
     "output_type": "stream",
     "text": [
      "enter direction(up/down/left/right): up\n"
     ]
    },
    {
     "name": "stdout",
     "output_type": "stream",
     "text": [
      ". . . . . . . . . . \n",
      ". . . . . . f . . . \n",
      ". . . . . . . . . . \n",
      ". . . . . . . . . . \n",
      "s . . . . . . . s . \n",
      "s . . . . . . . s . \n",
      "s s s s s s s s s . \n",
      ". . . . . . . s s . \n",
      ". . . . . . . . . . \n",
      ". . . . . . . . . . \n",
      "\n",
      "score: 14\n"
     ]
    },
    {
     "name": "stdin",
     "output_type": "stream",
     "text": [
      "enter direction(up/down/left/right): up\n"
     ]
    },
    {
     "name": "stdout",
     "output_type": "stream",
     "text": [
      ". . . . . . . . . . \n",
      ". . . . . . f . . . \n",
      ". . . . . . . . . . \n",
      ". . . . . . . . s . \n",
      ". . . . . . . . s . \n",
      "s . . . . . . . s . \n",
      "s s s s s s s s s . \n",
      ". . . . . . . s s . \n",
      ". . . . . . . . . . \n",
      ". . . . . . . . . . \n",
      "\n",
      "score: 14\n"
     ]
    },
    {
     "name": "stdin",
     "output_type": "stream",
     "text": [
      "enter direction(up/down/left/right): up\n"
     ]
    },
    {
     "name": "stdout",
     "output_type": "stream",
     "text": [
      ". . . . . . . . . . \n",
      ". . . . . . f . . . \n",
      ". . . . . . . . s . \n",
      ". . . . . . . . s . \n",
      ". . . . . . . . s . \n",
      ". . . . . . . . s . \n",
      "s s s s s s s s s . \n",
      ". . . . . . . s s . \n",
      ". . . . . . . . . . \n",
      ". . . . . . . . . . \n",
      "\n",
      "score: 14\n"
     ]
    },
    {
     "name": "stdin",
     "output_type": "stream",
     "text": [
      "enter direction(up/down/left/right): up\n"
     ]
    },
    {
     "name": "stdout",
     "output_type": "stream",
     "text": [
      ". . . . . . . . . . \n",
      ". . . . . . f . s . \n",
      ". . . . . . . . s . \n",
      ". . . . . . . . s . \n",
      ". . . . . . . . s . \n",
      ". . . . . . . . s . \n",
      ". s s s s s s s s . \n",
      ". . . . . . . s s . \n",
      ". . . . . . . . . . \n",
      ". . . . . . . . . . \n",
      "\n",
      "score: 14\n"
     ]
    },
    {
     "name": "stdin",
     "output_type": "stream",
     "text": [
      "enter direction(up/down/left/right): left\n"
     ]
    },
    {
     "name": "stdout",
     "output_type": "stream",
     "text": [
      ". . . . . . . . . . \n",
      ". . . . . . f s s . \n",
      ". . . . . . . . s . \n",
      ". . . . . . . . s . \n",
      ". . . . . . . . s . \n",
      ". . . . . . . . s . \n",
      ". . s s s s s s s . \n",
      ". . . . . . . s s . \n",
      ". . . . . . . . . . \n",
      ". . . . . . . . . . \n",
      "\n",
      "score: 14\n"
     ]
    },
    {
     "name": "stdin",
     "output_type": "stream",
     "text": [
      "enter direction(up/down/left/right): left\n"
     ]
    },
    {
     "name": "stdout",
     "output_type": "stream",
     "text": [
      ". . . . . . . . . . \n",
      ". . . . . . s s s . \n",
      "f . . . . . . . s . \n",
      ". . . . . . . . s . \n",
      ". . . . . . . . s . \n",
      ". . . . . . . . s . \n",
      ". . s s s s s s s . \n",
      ". . . . . . . s s . \n",
      ". . . . . . . . . . \n",
      ". . . . . . . . . . \n",
      "\n",
      "score: 15\n"
     ]
    }
   ],
   "source": [
    "import random\n",
    "width=10\n",
    "height=10\n",
    "#to create a board\n",
    "def print_board(snake,food):\n",
    "    for y in range(height):\n",
    "        for x in range(width):\n",
    "            if [x,y]==food:\n",
    "                print(\"f\", end=\" \")\n",
    "            elif [x,y] in snake:\n",
    "                print(\"s\", end=\" \")\n",
    "            else:\n",
    "                print(\".\", end=\" \")\n",
    "        print()\n",
    "    print()\n",
    "#to move the snake in different directons\n",
    "def move_snake(snake,direction):\n",
    "    head=snake[-1]\n",
    "    if direction=='up':\n",
    "        new_head=[head[0], head[1] - 1]\n",
    "    elif direction=='down':\n",
    "        new_head=[head[0], head[1] + 1]\n",
    "    elif direction=='left':\n",
    "        new_head=[head[0] - 1, head[1]]\n",
    "    elif direction=='right':\n",
    "        new_head=[head[0] + 1, head[1]]\n",
    "    else:\n",
    "        print(\"invalid direction,use left/right/down/up.\")\n",
    "        return snake, False\n",
    "#wall colide conditions\n",
    "    if new_head[0] < 0 or new_head[0] >= width or new_head[1] < 0 or new_head[1] >= height:\n",
    "        return snake, 'wall'\n",
    "#self colide conditions\n",
    "    if new_head in snake:\n",
    "        return snake, 'self'\n",
    "    snake.append(new_head)\n",
    "    return snake, new_head\n",
    "#to place food for snake\n",
    "def place_food(snake):\n",
    "    while True:\n",
    "        x = random.randint(0, width - 1)\n",
    "        y = random.randint(0, height - 1)\n",
    "        if [x,y] not in snake:\n",
    "            return[x,y]\n",
    "def snake_game():\n",
    "    snake = [[5, 5]]\n",
    "    food = place_food(snake)\n",
    "    score = 0\n",
    "    while True:\n",
    "        print_board(snake, food)\n",
    "        print(\"score:\", score)\n",
    "        direction = input(\"enter direction(up/down/left/right):\")\n",
    "        snake, result = move_snake(snake, direction)\n",
    "        if result == 'wall':\n",
    "            print(\"you hit the wall, Game over!!!\")\n",
    "            break\n",
    "        elif result == 'self':\n",
    "            print(\"you hit yorself...Game over!!!\")\n",
    "            break\n",
    "        elif result == food:\n",
    "            score += 1\n",
    "            food = place_food(snake)\n",
    "        else:\n",
    "            snake.pop(0)\n",
    "    print(\"final score:\", score)\n",
    "snake_game()            \n",
    "            "
   ]
  },
  {
   "cell_type": "code",
   "execution_count": null,
   "id": "93ebfe90-4199-45f9-aac5-d41237f70121",
   "metadata": {},
   "outputs": [],
   "source": []
  }
 ],
 "metadata": {
  "kernelspec": {
   "display_name": "Python 3 (ipykernel)",
   "language": "python",
   "name": "python3"
  },
  "language_info": {
   "codemirror_mode": {
    "name": "ipython",
    "version": 3
   },
   "file_extension": ".py",
   "mimetype": "text/x-python",
   "name": "python",
   "nbconvert_exporter": "python",
   "pygments_lexer": "ipython3",
   "version": "3.12.7"
  }
 },
 "nbformat": 4,
 "nbformat_minor": 5
}
